{
  "nbformat": 4,
  "nbformat_minor": 0,
  "metadata": {
    "colab": {
      "provenance": []
    },
    "kernelspec": {
      "name": "python3",
      "display_name": "Python 3"
    },
    "language_info": {
      "name": "python"
    }
  },
  "cells": [
    {
      "cell_type": "code",
      "execution_count": 9,
      "metadata": {
        "id": "UT8Z-rfpv1Vp"
      },
      "outputs": [],
      "source": [
        "import pandas as pd\n",
        "from sklearn.preprocessing import MinMaxScaler\n",
        "\n",
        "# Loading the dataset which i uploaded to colab\n",
        "df = pd.read_csv('/content/WineQT.csv')  # Adjust the file name/path as needed\n",
        "\n",
        "df.head()\n",
        "\n",
        "# Converting the quality\n",
        "df['quality'] = df['quality'].apply(lambda x: 0 if x <= 6 else 1)\n",
        "\n",
        "# seperating the features and target\n",
        "x = df.drop('quality', axis=1)\n",
        "y = df['quality']\n",
        "\n",
        "# doing min max scaling\n",
        "scaler = MinMaxScaler()\n",
        "X_f = pd.DataFrame(scaler.fit_transform(x), columns=x.columns)\n",
        "\n",
        "# Combine the normalized features with the target\n",
        "df_f = pd.concat([X_f, y.reset_index(drop=True)], axis=1)\n",
        "\n",
        "# Save the processed data to a new CSV file\n",
        "df_f.to_csv('winequality_normal.csv', index=False)\n"
      ]
    }
  ]
}